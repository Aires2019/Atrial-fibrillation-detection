{
 "cells": [
  {
   "cell_type": "code",
   "execution_count": 1,
   "id": "6f840f5f",
   "metadata": {},
   "outputs": [],
   "source": [
    "import numpy as np\n",
    "import matplotlib.pyplot as plt\n"
   ]
  },
  {
   "cell_type": "code",
   "execution_count": 3,
   "id": "55a507db",
   "metadata": {},
   "outputs": [
    {
     "name": "stdout",
     "output_type": "stream",
     "text": [
      "inconsistency in the first bit values\n"
     ]
    },
    {
     "name": "stderr",
     "output_type": "stream",
     "text": [
      "D:\\Software\\Anaconda\\envs\\pytorch\\lib\\site-packages\\ipykernel_launcher.py:48: RuntimeWarning: divide by zero encountered in true_divide\n",
      "D:\\Software\\Anaconda\\envs\\pytorch\\lib\\site-packages\\ipykernel_launcher.py:48: RuntimeWarning: invalid value encountered in true_divide\n",
      "D:\\Software\\Anaconda\\envs\\pytorch\\lib\\site-packages\\ipykernel_launcher.py:49: RuntimeWarning: divide by zero encountered in true_divide\n",
      "D:\\Software\\Anaconda\\envs\\pytorch\\lib\\site-packages\\ipykernel_launcher.py:49: RuntimeWarning: invalid value encountered in true_divide\n"
     ]
    },
    {
     "data": {
      "image/png": "[encoded data removed]",
      "text/plain": [
       "<Figure size 432x288 with 1 Axes>"
      ]
     },
     "metadata": {},
     "output_type": "display_data"
    }
   ],
   "source": [
    "\n",
    "PATH=\"../data/files/\"     #path, 这里就是写刚才你保存的数据地址  \n",
    "HEADERFILE=\"04015.hea\"     #文件格式为文本格式 \n",
    "ATRFILE=\"04015.atr\"     #attributes-file 文件以二进制格式 \n",
    "DATAFILE=\"04015.dat\"     #data-file  \n",
    "SAMPLES2READ=3000     #读取的数据样本点数\n",
    "####################读取头文件######################\n",
    "f=open(PATH+HEADERFILE,\"r\")\n",
    "z=f.readline().split()\n",
    "nosig,sfreq=int(z[1]),int(z[2])     #% number of signals，sample rate of data\n",
    "\n",
    "dformat,gain,bitres,zerovalue,firstvalue=[],[],[],[],[]\n",
    "for i in range(nosig):\n",
    "    z=f.readline().split()\n",
    "    dformat.append(int(z[1]))     #format; here only 212 is allowed\n",
    "    gain.append(int(z[2]))     #number of integers per mV\n",
    "    bitres.append(int(z[3]))     #bitresolution\n",
    "    zerovalue.append(int(z[4]))     #integer value of ECG zero point\n",
    "    firstvalue.append(int(z[5]))     #first integer value of signal (to test for errors)\n",
    "f.close()\n",
    "####################读取dat文件######################\n",
    "f=open(PATH+DATAFILE,\"rb\")     #以二进制格式读入dat文件\n",
    "b=f.read()   \n",
    "f.close()\n",
    "\n",
    "A_init=np.frombuffer(b,dtype=np.uint8)      #将读入的二进制文件转化为unit8格式\n",
    "A_shape0=int(A_init.shape[0]/3)     \n",
    "A=A_init.reshape(A_shape0,3)[:SAMPLES2READ]     #将A转为3列矩阵\n",
    "\n",
    "M=np.zeros((SAMPLES2READ,2))     #创建矩阵M\n",
    "\n",
    "M2H=A[:,1]>>4     #字节向右移四位，即取字节的高四位\n",
    "M1H=A[:,1]&15     #取字节的低四位\n",
    "\n",
    "PRL=(A[:,1]&8)*(2**9)     #sign-bit   取出字节低四位中最高位，向左移九位，等于乘2^9\n",
    "PRR=A[:,1]&128<<5     #sign-bit   取出字节高四位中最高位，向左移五位\n",
    "\n",
    "M1H=M1H*(2**8)\n",
    "M2H=M2H*(2**8)\n",
    "\n",
    "M[:,0]=A[:,0]+M1H-PRL\n",
    "M[:,1]=A[:,2]+M2H-PRR\n",
    "\n",
    "if ((M[1,:]!=firstvalue).any()):\n",
    "    print(\"inconsistency in the first bit values\")\n",
    "\n",
    "if nosig==2:\n",
    "    M[:, 0] = (M[:, 0] - zerovalue[0]) / gain[0]\n",
    "    M[:, 1] = (M[:, 1] - zerovalue[1]) / gain[1]\n",
    "    TIME=np.linspace(0,SAMPLES2READ-1,SAMPLES2READ)/sfreq\n",
    "elif nosig==1:\n",
    "    M2=[]\n",
    "    M[:, 0] = M[:, 0] - zerovalue[0]\n",
    "    M[:, 1] = M[:, 1] - zerovalue[1]\n",
    "    for i in range(M.shape[0]):\n",
    "        M2.append(M[:,0][i])\n",
    "        M2.append(M[:,1][i])\n",
    "    M2.append(0)\n",
    "    del M2[0]\n",
    "    M2=np.array(M2)/gain[0]\n",
    "    TIME=np.linspace(0,2*SAMPLES2READ-1,2*SAMPLES2READ)/sfreq\n",
    "else:\n",
    "    print(\"Sorting algorithm for more than 2 signals not programmed yet!\")\n",
    "####################读取atr文件######################\n",
    "f=open(PATH+ATRFILE,\"rb\")     #主要是读取ATR文件中各周期数据并在之后打印在图中\n",
    "b=f.read()\n",
    "f.close()\n",
    "\n",
    "A_init=np.frombuffer(b,dtype=np.uint8)\n",
    "A_shape0=int(A_init.shape[0]/2)\n",
    "A=A_init.reshape(A_shape0,2)\n",
    "\n",
    "ANNOT,ATRTIME=[],[]\n",
    "i=0\n",
    "while i < A.shape[0]:\n",
    "    annoth=A[i,1]>>2\n",
    "    if annoth==59:\n",
    "        ANNOT.append(A[i+3,1]>>2)\n",
    "        ATRTIME.append(A[i+2,0]+A[i+2,1]*(2**8)+A[i+1,0]*(2**16)+A[i+1,1]*(2**24))\n",
    "        i+=3\n",
    "    elif annoth==60:pass\n",
    "    elif annoth==61:pass\n",
    "    elif annoth==62:pass\n",
    "    elif annoth==63:\n",
    "        hilfe=(A[i,1]&3)*(2**8)+A[i,0]\n",
    "        hilfe=hilfe+hilfe%2\n",
    "        i+=int(hilfe/2)\n",
    "    else:\n",
    "        ATRTIME.append((A[i,1]&3)*(2**8)+A[i,0])\n",
    "        ANNOT.append(A[i,1]>>2)\n",
    "    i+=1\n",
    "\n",
    "del ANNOT[len(ANNOT)-1]\n",
    "del ATRTIME[len(ATRTIME)-1]\n",
    "\n",
    "ATRTIME=np.array(ATRTIME)\n",
    "ATRTIME=np.cumsum(ATRTIME)/sfreq\n",
    "\n",
    "ind=np.where(ATRTIME<=TIME[-1])[0]\n",
    "ATRTIMED=ATRTIME[ind]\n",
    "\n",
    "ANNOT=np.round(ANNOT)\n",
    "ANNOTD=ANNOT[ind]\n",
    "#####################显示ECG####################\n",
    "plt.plot(TIME,M[:,0],linewidth=\"0.5\",c=\"r\")\n",
    "if nosig==2:\n",
    "    plt.plot(TIME, M[:, 1], linewidth=\"0.5\", c=\"b\")\n",
    "for i in range(len(ATRTIMED)):\n",
    "    plt.text(ATRTIMED[i],0,str(ANNOTD[i]))\n",
    "plt.xlim(TIME[0],TIME[-1])\n",
    "plt.xlabel(\"Time / s\")\n",
    "plt.ylabel(\"Votage / mV\")\n",
    "plt.title(\"ECG signal \")\n",
    "plt.show()"
   ]
  },
  {
   "cell_type": "code",
   "execution_count": null,
   "id": "8bc37a3e",
   "metadata": {},
   "outputs": [],
   "source": []
  }
 ],
 "metadata": {
  "kernelspec": {
   "display_name": "pytorch",
   "language": "python",
   "name": "pytorch"
  },
  "language_info": {
   "codemirror_mode": {
    "name": "ipython",
    "version": 3
   },
   "file_extension": ".py",
   "mimetype": "text/x-python",
   "name": "python",
   "nbconvert_exporter": "python",
   "pygments_lexer": "ipython3",
   "version": "3.6.5"
  }
 },
 "nbformat": 4,
 "nbformat_minor": 5
}
